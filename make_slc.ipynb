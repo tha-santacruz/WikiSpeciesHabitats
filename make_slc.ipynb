{
 "cells": [
  {
   "cell_type": "code",
   "execution_count": 1,
   "metadata": {},
   "outputs": [],
   "source": [
    "import pandas as pd\n",
    "import json\n",
    "import matplotlib.pyplot as plt\n",
    "import torch"
   ]
  },
  {
   "cell_type": "code",
   "execution_count": 2,
   "metadata": {},
   "outputs": [],
   "source": [
    "def get_onehots(self, entry, unique_classes):\n",
    "        \"\"\"Retrieve one_hot encodings\"\"\"\n",
    "        x = [unique_classes.index(c) for c in entry]\n",
    "        one_hots = F.one_hot(torch.tensor(x), num_classes=len(unique_classes)).sum(dim=0).tolist()\n",
    "        return one_hots"
   ]
  },
  {
   "cell_type": "code",
   "execution_count": 3,
   "metadata": {},
   "outputs": [],
   "source": [
    "df = pd.read_json(\"./final_data/L1_all_data.json\", orient=\"records\")"
   ]
  },
  {
   "cell_type": "code",
   "execution_count": 4,
   "metadata": {},
   "outputs": [
    {
     "data": {
      "text/html": [
       "<div>\n",
       "<style scoped>\n",
       "    .dataframe tbody tr th:only-of-type {\n",
       "        vertical-align: middle;\n",
       "    }\n",
       "\n",
       "    .dataframe tbody tr th {\n",
       "        vertical-align: top;\n",
       "    }\n",
       "\n",
       "    .dataframe thead th {\n",
       "        text-align: right;\n",
       "    }\n",
       "</style>\n",
       "<table border=\"1\" class=\"dataframe\">\n",
       "  <thead>\n",
       "    <tr style=\"text-align: right;\">\n",
       "      <th></th>\n",
       "      <th>zone_id</th>\n",
       "      <th>maps_based_class</th>\n",
       "      <th>split</th>\n",
       "      <th>shape_area</th>\n",
       "      <th>species_key</th>\n",
       "      <th>species_count</th>\n",
       "      <th>species_based_class</th>\n",
       "      <th>species_based_num_classes</th>\n",
       "      <th>set_based_class</th>\n",
       "      <th>set_based_num_classes</th>\n",
       "    </tr>\n",
       "  </thead>\n",
       "  <tbody>\n",
       "    <tr>\n",
       "      <th>0</th>\n",
       "      <td>9</td>\n",
       "      <td>4</td>\n",
       "      <td>train</td>\n",
       "      <td>665918.930058</td>\n",
       "      <td>[3032837, 3170807, 3105433, 2883073]</td>\n",
       "      <td>4</td>\n",
       "      <td>[0, 0, 1, 1, 1, 1, 0, 0, 0]</td>\n",
       "      <td>4</td>\n",
       "      <td>[0, 0, 0, 1, 0, 0, 0, 0, 0]</td>\n",
       "      <td>1</td>\n",
       "    </tr>\n",
       "    <tr>\n",
       "      <th>1</th>\n",
       "      <td>10</td>\n",
       "      <td>4</td>\n",
       "      <td>train</td>\n",
       "      <td>2991.243434</td>\n",
       "      <td>[4299368]</td>\n",
       "      <td>1</td>\n",
       "      <td>[0, 0, 1, 1, 1, 1, 1, 1, 1]</td>\n",
       "      <td>7</td>\n",
       "      <td>[0, 0, 1, 1, 0, 0, 0, 1, 1]</td>\n",
       "      <td>4</td>\n",
       "    </tr>\n",
       "    <tr>\n",
       "      <th>2</th>\n",
       "      <td>21839</td>\n",
       "      <td>8</td>\n",
       "      <td>train</td>\n",
       "      <td>354037.007286</td>\n",
       "      <td>[4299368]</td>\n",
       "      <td>1</td>\n",
       "      <td>[0, 0, 1, 1, 1, 1, 1, 1, 1]</td>\n",
       "      <td>7</td>\n",
       "      <td>[0, 0, 1, 1, 0, 0, 0, 1, 1]</td>\n",
       "      <td>4</td>\n",
       "    </tr>\n",
       "    <tr>\n",
       "      <th>3</th>\n",
       "      <td>28584</td>\n",
       "      <td>3</td>\n",
       "      <td>train</td>\n",
       "      <td>8464.315756</td>\n",
       "      <td>[4299368]</td>\n",
       "      <td>1</td>\n",
       "      <td>[0, 0, 1, 1, 1, 1, 1, 1, 1]</td>\n",
       "      <td>7</td>\n",
       "      <td>[0, 0, 1, 1, 0, 0, 0, 1, 1]</td>\n",
       "      <td>4</td>\n",
       "    </tr>\n",
       "    <tr>\n",
       "      <th>4</th>\n",
       "      <td>36517</td>\n",
       "      <td>4</td>\n",
       "      <td>train</td>\n",
       "      <td>45404.185118</td>\n",
       "      <td>[4299368]</td>\n",
       "      <td>1</td>\n",
       "      <td>[0, 0, 1, 1, 1, 1, 1, 1, 1]</td>\n",
       "      <td>7</td>\n",
       "      <td>[0, 0, 1, 1, 0, 0, 0, 1, 1]</td>\n",
       "      <td>4</td>\n",
       "    </tr>\n",
       "  </tbody>\n",
       "</table>\n",
       "</div>"
      ],
      "text/plain": [
       "   zone_id  maps_based_class  split     shape_area  \\\n",
       "0        9                 4  train  665918.930058   \n",
       "1       10                 4  train    2991.243434   \n",
       "2    21839                 8  train  354037.007286   \n",
       "3    28584                 3  train    8464.315756   \n",
       "4    36517                 4  train   45404.185118   \n",
       "\n",
       "                            species_key  species_count  \\\n",
       "0  [3032837, 3170807, 3105433, 2883073]              4   \n",
       "1                             [4299368]              1   \n",
       "2                             [4299368]              1   \n",
       "3                             [4299368]              1   \n",
       "4                             [4299368]              1   \n",
       "\n",
       "           species_based_class  species_based_num_classes  \\\n",
       "0  [0, 0, 1, 1, 1, 1, 0, 0, 0]                          4   \n",
       "1  [0, 0, 1, 1, 1, 1, 1, 1, 1]                          7   \n",
       "2  [0, 0, 1, 1, 1, 1, 1, 1, 1]                          7   \n",
       "3  [0, 0, 1, 1, 1, 1, 1, 1, 1]                          7   \n",
       "4  [0, 0, 1, 1, 1, 1, 1, 1, 1]                          7   \n",
       "\n",
       "               set_based_class  set_based_num_classes  \n",
       "0  [0, 0, 0, 1, 0, 0, 0, 0, 0]                      1  \n",
       "1  [0, 0, 1, 1, 0, 0, 0, 1, 1]                      4  \n",
       "2  [0, 0, 1, 1, 0, 0, 0, 1, 1]                      4  \n",
       "3  [0, 0, 1, 1, 0, 0, 0, 1, 1]                      4  \n",
       "4  [0, 0, 1, 1, 0, 0, 0, 1, 1]                      4  "
      ]
     },
     "execution_count": 4,
     "metadata": {},
     "output_type": "execute_result"
    }
   ],
   "source": [
    "df.head()"
   ]
  },
  {
   "cell_type": "code",
   "execution_count": 6,
   "metadata": {},
   "outputs": [],
   "source": [
    "## List to string for grouping\n",
    "df[\"species_key\"] = df[\"species_key\"].apply(lambda x : json.dumps(x))"
   ]
  },
  {
   "cell_type": "code",
   "execution_count": 7,
   "metadata": {},
   "outputs": [
    {
     "data": {
      "text/plain": [
       "1    15791\n",
       "2      377\n",
       "3      170\n",
       "4      117\n",
       "5       87\n",
       "6       60\n",
       "7       31\n",
       "8       22\n",
       "9        9\n",
       "Name: set_based_num_classes, dtype: int64"
      ]
     },
     "execution_count": 7,
     "metadata": {},
     "output_type": "execute_result"
    }
   ],
   "source": [
    "temp = pd.DataFrame(df.groupby(\"species_key\")[\"maps_based_class\"].unique()).reset_index()\n",
    "temp[\"set_based_num_classes\"] = temp[\"maps_based_class\"].apply(lambda x : len(x))\n",
    "temp[\"num_species\"] = temp[\"species_key\"].apply(lambda x : len(json.loads(x)))\n",
    "temp[\"set_based_class\"] = temp[\"maps_based_class\"].apply(lambda x : torch.nn.functional.one_hot(torch.tensor(x)-1,num_classes=9).sum(dim=0).tolist())\n",
    "temp.set_based_num_classes.value_counts()"
   ]
  },
  {
   "cell_type": "code",
   "execution_count": 9,
   "metadata": {},
   "outputs": [
    {
     "data": {
      "text/html": [
       "<div>\n",
       "<style scoped>\n",
       "    .dataframe tbody tr th:only-of-type {\n",
       "        vertical-align: middle;\n",
       "    }\n",
       "\n",
       "    .dataframe tbody tr th {\n",
       "        vertical-align: top;\n",
       "    }\n",
       "\n",
       "    .dataframe thead th {\n",
       "        text-align: right;\n",
       "    }\n",
       "</style>\n",
       "<table border=\"1\" class=\"dataframe\">\n",
       "  <thead>\n",
       "    <tr style=\"text-align: right;\">\n",
       "      <th></th>\n",
       "      <th>species_key</th>\n",
       "      <th>maps_based_class</th>\n",
       "      <th>set_based_num_classes</th>\n",
       "      <th>num_species</th>\n",
       "      <th>set_based_class</th>\n",
       "    </tr>\n",
       "  </thead>\n",
       "  <tbody>\n",
       "    <tr>\n",
       "      <th>0</th>\n",
       "      <td>[10160919, 5415065, 7270427, 2812375]</td>\n",
       "      <td>[4]</td>\n",
       "      <td>1</td>\n",
       "      <td>4</td>\n",
       "      <td>[0, 0, 0, 1, 0, 0, 0, 0, 0]</td>\n",
       "    </tr>\n",
       "    <tr>\n",
       "      <th>1</th>\n",
       "      <td>[10196288]</td>\n",
       "      <td>[3]</td>\n",
       "      <td>1</td>\n",
       "      <td>1</td>\n",
       "      <td>[0, 0, 1, 0, 0, 0, 0, 0, 0]</td>\n",
       "    </tr>\n",
       "    <tr>\n",
       "      <th>2</th>\n",
       "      <td>[1035185, 8270406, 4472913, 1919712, 7809779, ...</td>\n",
       "      <td>[4]</td>\n",
       "      <td>1</td>\n",
       "      <td>10</td>\n",
       "      <td>[0, 0, 0, 1, 0, 0, 0, 0, 0]</td>\n",
       "    </tr>\n",
       "    <tr>\n",
       "      <th>3</th>\n",
       "      <td>[1035185, 9013850, 1037319, 6097886, 1035931, ...</td>\n",
       "      <td>[6]</td>\n",
       "      <td>1</td>\n",
       "      <td>10</td>\n",
       "      <td>[0, 0, 0, 0, 0, 1, 0, 0, 0]</td>\n",
       "    </tr>\n",
       "    <tr>\n",
       "      <th>4</th>\n",
       "      <td>[1035194, 1800032, 7972792, 1792418, 4532532, ...</td>\n",
       "      <td>[7]</td>\n",
       "      <td>1</td>\n",
       "      <td>10</td>\n",
       "      <td>[0, 0, 0, 0, 0, 0, 1, 0, 0]</td>\n",
       "    </tr>\n",
       "  </tbody>\n",
       "</table>\n",
       "</div>"
      ],
      "text/plain": [
       "                                         species_key maps_based_class  \\\n",
       "0              [10160919, 5415065, 7270427, 2812375]              [4]   \n",
       "1                                         [10196288]              [3]   \n",
       "2  [1035185, 8270406, 4472913, 1919712, 7809779, ...              [4]   \n",
       "3  [1035185, 9013850, 1037319, 6097886, 1035931, ...              [6]   \n",
       "4  [1035194, 1800032, 7972792, 1792418, 4532532, ...              [7]   \n",
       "\n",
       "   set_based_num_classes  num_species              set_based_class  \n",
       "0                      1            4  [0, 0, 0, 1, 0, 0, 0, 0, 0]  \n",
       "1                      1            1  [0, 0, 1, 0, 0, 0, 0, 0, 0]  \n",
       "2                      1           10  [0, 0, 0, 1, 0, 0, 0, 0, 0]  \n",
       "3                      1           10  [0, 0, 0, 0, 0, 1, 0, 0, 0]  \n",
       "4                      1           10  [0, 0, 0, 0, 0, 0, 1, 0, 0]  "
      ]
     },
     "execution_count": 9,
     "metadata": {},
     "output_type": "execute_result"
    }
   ],
   "source": [
    "temp.head()"
   ]
  },
  {
   "cell_type": "code",
   "execution_count": 80,
   "metadata": {},
   "outputs": [
    {
     "data": {
      "text/plain": [
       "<matplotlib.collections.PathCollection at 0x7fbad1b6e250>"
      ]
     },
     "execution_count": 80,
     "metadata": {},
     "output_type": "execute_result"
    },
    {
     "data": {
      "image/png": "[encoded data removed]",
      "text/plain": [
       "<Figure size 640x480 with 1 Axes>"
      ]
     },
     "metadata": {},
     "output_type": "display_data"
    }
   ],
   "source": [
    "plt.scatter(x=temp.num_species,y=temp.set_based_num_classes)"
   ]
  },
  {
   "cell_type": "code",
   "execution_count": 82,
   "metadata": {},
   "outputs": [
    {
     "data": {
      "text/html": [
       "<div>\n",
       "<style scoped>\n",
       "    .dataframe tbody tr th:only-of-type {\n",
       "        vertical-align: middle;\n",
       "    }\n",
       "\n",
       "    .dataframe tbody tr th {\n",
       "        vertical-align: top;\n",
       "    }\n",
       "\n",
       "    .dataframe thead th {\n",
       "        text-align: right;\n",
       "    }\n",
       "</style>\n",
       "<table border=\"1\" class=\"dataframe\">\n",
       "  <thead>\n",
       "    <tr style=\"text-align: right;\">\n",
       "      <th></th>\n",
       "      <th>zone_id</th>\n",
       "      <th>maps_based_class</th>\n",
       "      <th>split</th>\n",
       "      <th>shape_area</th>\n",
       "      <th>species_key</th>\n",
       "      <th>species_count</th>\n",
       "      <th>species_based_class</th>\n",
       "      <th>species_based_num_classes</th>\n",
       "      <th>set_based_class</th>\n",
       "      <th>set_based_num_classes</th>\n",
       "    </tr>\n",
       "  </thead>\n",
       "  <tbody>\n",
       "    <tr>\n",
       "      <th>0</th>\n",
       "      <td>9</td>\n",
       "      <td>4</td>\n",
       "      <td>train</td>\n",
       "      <td>665918.930058</td>\n",
       "      <td>[3032837, 3170807, 3105433, 2883073]</td>\n",
       "      <td>4</td>\n",
       "      <td>[0, 0, 1, 1, 1, 1, 0, 0, 0]</td>\n",
       "      <td>4</td>\n",
       "      <td>[0, 0, 0, 1, 0, 0, 0, 0, 0]</td>\n",
       "      <td>1</td>\n",
       "    </tr>\n",
       "    <tr>\n",
       "      <th>1</th>\n",
       "      <td>10</td>\n",
       "      <td>4</td>\n",
       "      <td>train</td>\n",
       "      <td>2991.243434</td>\n",
       "      <td>[4299368]</td>\n",
       "      <td>1</td>\n",
       "      <td>[0, 0, 1, 1, 1, 1, 1, 1, 1]</td>\n",
       "      <td>7</td>\n",
       "      <td>[0, 0, 1, 1, 0, 0, 0, 1, 1]</td>\n",
       "      <td>4</td>\n",
       "    </tr>\n",
       "    <tr>\n",
       "      <th>5315</th>\n",
       "      <td>21839</td>\n",
       "      <td>8</td>\n",
       "      <td>train</td>\n",
       "      <td>354037.007286</td>\n",
       "      <td>[4299368]</td>\n",
       "      <td>1</td>\n",
       "      <td>[0, 0, 1, 1, 1, 1, 1, 1, 1]</td>\n",
       "      <td>7</td>\n",
       "      <td>[0, 0, 1, 1, 0, 0, 0, 1, 1]</td>\n",
       "      <td>4</td>\n",
       "    </tr>\n",
       "    <tr>\n",
       "      <th>8437</th>\n",
       "      <td>28584</td>\n",
       "      <td>3</td>\n",
       "      <td>train</td>\n",
       "      <td>8464.315756</td>\n",
       "      <td>[4299368]</td>\n",
       "      <td>1</td>\n",
       "      <td>[0, 0, 1, 1, 1, 1, 1, 1, 1]</td>\n",
       "      <td>7</td>\n",
       "      <td>[0, 0, 1, 1, 0, 0, 0, 1, 1]</td>\n",
       "      <td>4</td>\n",
       "    </tr>\n",
       "    <tr>\n",
       "      <th>10428</th>\n",
       "      <td>36517</td>\n",
       "      <td>4</td>\n",
       "      <td>train</td>\n",
       "      <td>45404.185118</td>\n",
       "      <td>[4299368]</td>\n",
       "      <td>1</td>\n",
       "      <td>[0, 0, 1, 1, 1, 1, 1, 1, 1]</td>\n",
       "      <td>7</td>\n",
       "      <td>[0, 0, 1, 1, 0, 0, 0, 1, 1]</td>\n",
       "      <td>4</td>\n",
       "    </tr>\n",
       "    <tr>\n",
       "      <th>...</th>\n",
       "      <td>...</td>\n",
       "      <td>...</td>\n",
       "      <td>...</td>\n",
       "      <td>...</td>\n",
       "      <td>...</td>\n",
       "      <td>...</td>\n",
       "      <td>...</td>\n",
       "      <td>...</td>\n",
       "      <td>...</td>\n",
       "      <td>...</td>\n",
       "    </tr>\n",
       "    <tr>\n",
       "      <th>25951</th>\n",
       "      <td>98084</td>\n",
       "      <td>4</td>\n",
       "      <td>test</td>\n",
       "      <td>97910.824985</td>\n",
       "      <td>[8207244, 3928139, 2787993, 7270427, 3032585, ...</td>\n",
       "      <td>6</td>\n",
       "      <td>[0, 0, 1, 1, 1, 1, 0, 0, 1]</td>\n",
       "      <td>5</td>\n",
       "      <td>[0, 0, 0, 1, 0, 0, 0, 0, 0]</td>\n",
       "      <td>1</td>\n",
       "    </tr>\n",
       "    <tr>\n",
       "      <th>25954</th>\n",
       "      <td>98090</td>\n",
       "      <td>3</td>\n",
       "      <td>test</td>\n",
       "      <td>35333.736445</td>\n",
       "      <td>[3032585, 7931979, 2960823]</td>\n",
       "      <td>3</td>\n",
       "      <td>[0, 0, 1, 1, 1, 1, 0, 0, 1]</td>\n",
       "      <td>5</td>\n",
       "      <td>[0, 0, 1, 0, 0, 0, 0, 0, 0]</td>\n",
       "      <td>1</td>\n",
       "    </tr>\n",
       "    <tr>\n",
       "      <th>25955</th>\n",
       "      <td>98091</td>\n",
       "      <td>4</td>\n",
       "      <td>test</td>\n",
       "      <td>104367.462649</td>\n",
       "      <td>[5384464, 3032585, 3033289, 8207244]</td>\n",
       "      <td>4</td>\n",
       "      <td>[0, 0, 1, 1, 0, 1, 0, 0, 1]</td>\n",
       "      <td>4</td>\n",
       "      <td>[0, 0, 0, 1, 0, 0, 0, 0, 0]</td>\n",
       "      <td>1</td>\n",
       "    </tr>\n",
       "    <tr>\n",
       "      <th>25958</th>\n",
       "      <td>98095</td>\n",
       "      <td>4</td>\n",
       "      <td>test</td>\n",
       "      <td>63666.903126</td>\n",
       "      <td>[3170040, 2812375, 3029627, 1537719, 3189747, ...</td>\n",
       "      <td>7</td>\n",
       "      <td>[0, 0, 1, 1, 0, 1, 0, 0, 0]</td>\n",
       "      <td>3</td>\n",
       "      <td>[0, 0, 0, 1, 0, 0, 0, 0, 0]</td>\n",
       "      <td>1</td>\n",
       "    </tr>\n",
       "    <tr>\n",
       "      <th>25961</th>\n",
       "      <td>98101</td>\n",
       "      <td>6</td>\n",
       "      <td>test</td>\n",
       "      <td>52057.227924</td>\n",
       "      <td>[5275365, 3112620]</td>\n",
       "      <td>2</td>\n",
       "      <td>[0, 0, 1, 1, 1, 1, 0, 0, 1]</td>\n",
       "      <td>5</td>\n",
       "      <td>[0, 0, 0, 0, 0, 1, 0, 0, 0]</td>\n",
       "      <td>1</td>\n",
       "    </tr>\n",
       "  </tbody>\n",
       "</table>\n",
       "<p>25963 rows × 10 columns</p>\n",
       "</div>"
      ],
      "text/plain": [
       "       zone_id  maps_based_class  split     shape_area  \\\n",
       "0            9                 4  train  665918.930058   \n",
       "1           10                 4  train    2991.243434   \n",
       "5315     21839                 8  train  354037.007286   \n",
       "8437     28584                 3  train    8464.315756   \n",
       "10428    36517                 4  train   45404.185118   \n",
       "...        ...               ...    ...            ...   \n",
       "25951    98084                 4   test   97910.824985   \n",
       "25954    98090                 3   test   35333.736445   \n",
       "25955    98091                 4   test  104367.462649   \n",
       "25958    98095                 4   test   63666.903126   \n",
       "25961    98101                 6   test   52057.227924   \n",
       "\n",
       "                                             species_key  species_count  \\\n",
       "0                   [3032837, 3170807, 3105433, 2883073]              4   \n",
       "1                                              [4299368]              1   \n",
       "5315                                           [4299368]              1   \n",
       "8437                                           [4299368]              1   \n",
       "10428                                          [4299368]              1   \n",
       "...                                                  ...            ...   \n",
       "25951  [8207244, 3928139, 2787993, 7270427, 3032585, ...              6   \n",
       "25954                        [3032585, 7931979, 2960823]              3   \n",
       "25955               [5384464, 3032585, 3033289, 8207244]              4   \n",
       "25958  [3170040, 2812375, 3029627, 1537719, 3189747, ...              7   \n",
       "25961                                 [5275365, 3112620]              2   \n",
       "\n",
       "               species_based_class  species_based_num_classes  \\\n",
       "0      [0, 0, 1, 1, 1, 1, 0, 0, 0]                          4   \n",
       "1      [0, 0, 1, 1, 1, 1, 1, 1, 1]                          7   \n",
       "5315   [0, 0, 1, 1, 1, 1, 1, 1, 1]                          7   \n",
       "8437   [0, 0, 1, 1, 1, 1, 1, 1, 1]                          7   \n",
       "10428  [0, 0, 1, 1, 1, 1, 1, 1, 1]                          7   \n",
       "...                            ...                        ...   \n",
       "25951  [0, 0, 1, 1, 1, 1, 0, 0, 1]                          5   \n",
       "25954  [0, 0, 1, 1, 1, 1, 0, 0, 1]                          5   \n",
       "25955  [0, 0, 1, 1, 0, 1, 0, 0, 1]                          4   \n",
       "25958  [0, 0, 1, 1, 0, 1, 0, 0, 0]                          3   \n",
       "25961  [0, 0, 1, 1, 1, 1, 0, 0, 1]                          5   \n",
       "\n",
       "                   set_based_class  set_based_num_classes  \n",
       "0      [0, 0, 0, 1, 0, 0, 0, 0, 0]                      1  \n",
       "1      [0, 0, 1, 1, 0, 0, 0, 1, 1]                      4  \n",
       "5315   [0, 0, 1, 1, 0, 0, 0, 1, 1]                      4  \n",
       "8437   [0, 0, 1, 1, 0, 0, 0, 1, 1]                      4  \n",
       "10428  [0, 0, 1, 1, 0, 0, 0, 1, 1]                      4  \n",
       "...                            ...                    ...  \n",
       "25951  [0, 0, 0, 1, 0, 0, 0, 0, 0]                      1  \n",
       "25954  [0, 0, 1, 0, 0, 0, 0, 0, 0]                      1  \n",
       "25955  [0, 0, 0, 1, 0, 0, 0, 0, 0]                      1  \n",
       "25958  [0, 0, 0, 1, 0, 0, 0, 0, 0]                      1  \n",
       "25961  [0, 0, 0, 0, 0, 1, 0, 0, 0]                      1  \n",
       "\n",
       "[25963 rows x 10 columns]"
      ]
     },
     "execution_count": 82,
     "metadata": {},
     "output_type": "execute_result"
    }
   ],
   "source": [
    "df = df.rename(columns={\"num_classes\":\"species_based_num_classes\"})\n",
    "df = df.join(temp.set_index(\"species_key\")[[\"set_based_class\",\"set_based_num_classes\"]], on=\"species_key\", how=\"inner\")\n",
    "df"
   ]
  },
  {
   "cell_type": "code",
   "execution_count": 10,
   "metadata": {},
   "outputs": [
    {
     "data": {
      "text/html": [
       "<div>\n",
       "<style scoped>\n",
       "    .dataframe tbody tr th:only-of-type {\n",
       "        vertical-align: middle;\n",
       "    }\n",
       "\n",
       "    .dataframe tbody tr th {\n",
       "        vertical-align: top;\n",
       "    }\n",
       "\n",
       "    .dataframe thead th {\n",
       "        text-align: right;\n",
       "    }\n",
       "</style>\n",
       "<table border=\"1\" class=\"dataframe\">\n",
       "  <thead>\n",
       "    <tr style=\"text-align: right;\">\n",
       "      <th></th>\n",
       "      <th>zone_id</th>\n",
       "      <th>maps_based_class</th>\n",
       "      <th>shape_area</th>\n",
       "      <th>species_count</th>\n",
       "      <th>species_based_num_classes</th>\n",
       "      <th>set_based_num_classes</th>\n",
       "    </tr>\n",
       "  </thead>\n",
       "  <tbody>\n",
       "    <tr>\n",
       "      <th>count</th>\n",
       "      <td>25963.000000</td>\n",
       "      <td>25963.000000</td>\n",
       "      <td>2.596300e+04</td>\n",
       "      <td>25963.000000</td>\n",
       "      <td>25963.000000</td>\n",
       "      <td>25963.000000</td>\n",
       "    </tr>\n",
       "    <tr>\n",
       "      <th>mean</th>\n",
       "      <td>48656.067789</td>\n",
       "      <td>5.147864</td>\n",
       "      <td>1.386739e+05</td>\n",
       "      <td>3.762778</td>\n",
       "      <td>5.071794</td>\n",
       "      <td>2.738705</td>\n",
       "    </tr>\n",
       "    <tr>\n",
       "      <th>std</th>\n",
       "      <td>27950.578900</td>\n",
       "      <td>1.902356</td>\n",
       "      <td>5.124324e+05</td>\n",
       "      <td>3.286255</td>\n",
       "      <td>1.804310</td>\n",
       "      <td>2.657745</td>\n",
       "    </tr>\n",
       "    <tr>\n",
       "      <th>min</th>\n",
       "      <td>9.000000</td>\n",
       "      <td>1.000000</td>\n",
       "      <td>8.114492e+00</td>\n",
       "      <td>1.000000</td>\n",
       "      <td>0.000000</td>\n",
       "      <td>1.000000</td>\n",
       "    </tr>\n",
       "    <tr>\n",
       "      <th>25%</th>\n",
       "      <td>23976.000000</td>\n",
       "      <td>4.000000</td>\n",
       "      <td>1.285903e+04</td>\n",
       "      <td>1.000000</td>\n",
       "      <td>4.000000</td>\n",
       "      <td>1.000000</td>\n",
       "    </tr>\n",
       "    <tr>\n",
       "      <th>50%</th>\n",
       "      <td>49333.000000</td>\n",
       "      <td>5.000000</td>\n",
       "      <td>4.654735e+04</td>\n",
       "      <td>2.000000</td>\n",
       "      <td>5.000000</td>\n",
       "      <td>1.000000</td>\n",
       "    </tr>\n",
       "    <tr>\n",
       "      <th>75%</th>\n",
       "      <td>71429.500000</td>\n",
       "      <td>6.000000</td>\n",
       "      <td>1.321998e+05</td>\n",
       "      <td>6.000000</td>\n",
       "      <td>6.000000</td>\n",
       "      <td>5.000000</td>\n",
       "    </tr>\n",
       "    <tr>\n",
       "      <th>max</th>\n",
       "      <td>98118.000000</td>\n",
       "      <td>9.000000</td>\n",
       "      <td>3.100713e+07</td>\n",
       "      <td>10.000000</td>\n",
       "      <td>9.000000</td>\n",
       "      <td>9.000000</td>\n",
       "    </tr>\n",
       "  </tbody>\n",
       "</table>\n",
       "</div>"
      ],
      "text/plain": [
       "            zone_id  maps_based_class    shape_area  species_count  \\\n",
       "count  25963.000000      25963.000000  2.596300e+04   25963.000000   \n",
       "mean   48656.067789          5.147864  1.386739e+05       3.762778   \n",
       "std    27950.578900          1.902356  5.124324e+05       3.286255   \n",
       "min        9.000000          1.000000  8.114492e+00       1.000000   \n",
       "25%    23976.000000          4.000000  1.285903e+04       1.000000   \n",
       "50%    49333.000000          5.000000  4.654735e+04       2.000000   \n",
       "75%    71429.500000          6.000000  1.321998e+05       6.000000   \n",
       "max    98118.000000          9.000000  3.100713e+07      10.000000   \n",
       "\n",
       "       species_based_num_classes  set_based_num_classes  \n",
       "count               25963.000000           25963.000000  \n",
       "mean                    5.071794               2.738705  \n",
       "std                     1.804310               2.657745  \n",
       "min                     0.000000               1.000000  \n",
       "25%                     4.000000               1.000000  \n",
       "50%                     5.000000               1.000000  \n",
       "75%                     6.000000               5.000000  \n",
       "max                     9.000000               9.000000  "
      ]
     },
     "execution_count": 10,
     "metadata": {},
     "output_type": "execute_result"
    }
   ],
   "source": [
    "df.describe()"
   ]
  },
  {
   "cell_type": "code",
   "execution_count": 11,
   "metadata": {},
   "outputs": [
    {
     "data": {
      "text/plain": [
       "torch.Size([25963, 9])"
      ]
     },
     "execution_count": 11,
     "metadata": {},
     "output_type": "execute_result"
    }
   ],
   "source": [
    "contingency = torch.tensor(df[\"set_based_class\"].tolist())\n",
    "contingency.size()"
   ]
  },
  {
   "cell_type": "code",
   "execution_count": 12,
   "metadata": {},
   "outputs": [
    {
     "data": {
      "text/html": [
       "<div>\n",
       "<style scoped>\n",
       "    .dataframe tbody tr th:only-of-type {\n",
       "        vertical-align: middle;\n",
       "    }\n",
       "\n",
       "    .dataframe tbody tr th {\n",
       "        vertical-align: top;\n",
       "    }\n",
       "\n",
       "    .dataframe thead th {\n",
       "        text-align: right;\n",
       "    }\n",
       "</style>\n",
       "<table border=\"1\" class=\"dataframe\">\n",
       "  <thead>\n",
       "    <tr style=\"text-align: right;\">\n",
       "      <th></th>\n",
       "      <th>rate</th>\n",
       "    </tr>\n",
       "  </thead>\n",
       "  <tbody>\n",
       "    <tr>\n",
       "      <th>count</th>\n",
       "      <td>9.000000</td>\n",
       "    </tr>\n",
       "    <tr>\n",
       "      <th>mean</th>\n",
       "      <td>0.304301</td>\n",
       "    </tr>\n",
       "    <tr>\n",
       "      <th>std</th>\n",
       "      <td>0.152936</td>\n",
       "    </tr>\n",
       "    <tr>\n",
       "      <th>min</th>\n",
       "      <td>0.148981</td>\n",
       "    </tr>\n",
       "    <tr>\n",
       "      <th>10%</th>\n",
       "      <td>0.161029</td>\n",
       "    </tr>\n",
       "    <tr>\n",
       "      <th>20%</th>\n",
       "      <td>0.180611</td>\n",
       "    </tr>\n",
       "    <tr>\n",
       "      <th>30%</th>\n",
       "      <td>0.196526</td>\n",
       "    </tr>\n",
       "    <tr>\n",
       "      <th>40%</th>\n",
       "      <td>0.219605</td>\n",
       "    </tr>\n",
       "    <tr>\n",
       "      <th>50%</th>\n",
       "      <td>0.282710</td>\n",
       "    </tr>\n",
       "    <tr>\n",
       "      <th>60%</th>\n",
       "      <td>0.317590</td>\n",
       "    </tr>\n",
       "    <tr>\n",
       "      <th>70%</th>\n",
       "      <td>0.331256</td>\n",
       "    </tr>\n",
       "    <tr>\n",
       "      <th>80%</th>\n",
       "      <td>0.399260</td>\n",
       "    </tr>\n",
       "    <tr>\n",
       "      <th>90%</th>\n",
       "      <td>0.515118</td>\n",
       "    </tr>\n",
       "    <tr>\n",
       "      <th>max</th>\n",
       "      <td>0.590302</td>\n",
       "    </tr>\n",
       "  </tbody>\n",
       "</table>\n",
       "</div>"
      ],
      "text/plain": [
       "           rate\n",
       "count  9.000000\n",
       "mean   0.304301\n",
       "std    0.152936\n",
       "min    0.148981\n",
       "10%    0.161029\n",
       "20%    0.180611\n",
       "30%    0.196526\n",
       "40%    0.219605\n",
       "50%    0.282710\n",
       "60%    0.317590\n",
       "70%    0.331256\n",
       "80%    0.399260\n",
       "90%    0.515118\n",
       "max    0.590302"
      ]
     },
     "execution_count": 12,
     "metadata": {},
     "output_type": "execute_result"
    }
   ],
   "source": [
    "contingency = torch.tensor(df[\"set_based_class\"].tolist())\n",
    "occurence_rates = pd.DataFrame()\n",
    "occurence_rates[\"class\"] = pd.read_json(\"/data/nicola/WSH/final_data/L1_habitats_keys.json\", orient=\"records\")[\"class\"]\n",
    "occurence_rates[\"rate\"] = contingency.sum(dim=0).div(contingency.size(0)).tolist()\n",
    "pd.DataFrame(occurence_rates.set_index(\"class\").describe(percentiles=[0.1, 0.2, 0.3, 0.4, 0.5, 0.6, 0.7, 0.8, 0.9]))\n",
    "#pd.DataFrame(occurence_rates.describe(percentiles=[0.1, 0.2, 0.3, 0.4, 0.5, 0.6, 0.7, 0.8, 0.9]))"
   ]
  },
  {
   "cell_type": "code",
   "execution_count": 13,
   "metadata": {},
   "outputs": [
    {
     "data": {
      "text/html": [
       "<div>\n",
       "<style scoped>\n",
       "    .dataframe tbody tr th:only-of-type {\n",
       "        vertical-align: middle;\n",
       "    }\n",
       "\n",
       "    .dataframe tbody tr th {\n",
       "        vertical-align: top;\n",
       "    }\n",
       "\n",
       "    .dataframe thead th {\n",
       "        text-align: right;\n",
       "    }\n",
       "</style>\n",
       "<table border=\"1\" class=\"dataframe\">\n",
       "  <thead>\n",
       "    <tr style=\"text-align: right;\">\n",
       "      <th></th>\n",
       "      <th>rate</th>\n",
       "    </tr>\n",
       "    <tr>\n",
       "      <th>class</th>\n",
       "      <th></th>\n",
       "    </tr>\n",
       "  </thead>\n",
       "  <tbody>\n",
       "    <tr>\n",
       "      <th>1</th>\n",
       "      <td>0.191657</td>\n",
       "    </tr>\n",
       "    <tr>\n",
       "      <th>2</th>\n",
       "      <td>0.148981</td>\n",
       "    </tr>\n",
       "    <tr>\n",
       "      <th>3</th>\n",
       "      <td>0.326311</td>\n",
       "    </tr>\n",
       "    <tr>\n",
       "      <th>4</th>\n",
       "      <td>0.590302</td>\n",
       "    </tr>\n",
       "    <tr>\n",
       "      <th>5</th>\n",
       "      <td>0.282710</td>\n",
       "    </tr>\n",
       "    <tr>\n",
       "      <th>6</th>\n",
       "      <td>0.496322</td>\n",
       "    </tr>\n",
       "    <tr>\n",
       "      <th>7</th>\n",
       "      <td>0.203829</td>\n",
       "    </tr>\n",
       "    <tr>\n",
       "      <th>8</th>\n",
       "      <td>0.164041</td>\n",
       "    </tr>\n",
       "    <tr>\n",
       "      <th>9</th>\n",
       "      <td>0.334553</td>\n",
       "    </tr>\n",
       "  </tbody>\n",
       "</table>\n",
       "</div>"
      ],
      "text/plain": [
       "           rate\n",
       "class          \n",
       "1      0.191657\n",
       "2      0.148981\n",
       "3      0.326311\n",
       "4      0.590302\n",
       "5      0.282710\n",
       "6      0.496322\n",
       "7      0.203829\n",
       "8      0.164041\n",
       "9      0.334553"
      ]
     },
     "execution_count": 13,
     "metadata": {},
     "output_type": "execute_result"
    }
   ],
   "source": [
    "occurence_rates.set_index(\"class\")"
   ]
  },
  {
   "cell_type": "code",
   "execution_count": 112,
   "metadata": {},
   "outputs": [],
   "source": [
    "df = pd.read_json(\"./final_data/L1_all_data.json\", orient=\"records\")"
   ]
  },
  {
   "cell_type": "code",
   "execution_count": 122,
   "metadata": {},
   "outputs": [
    {
     "data": {
      "text/plain": [
       "Text(0, 0.5, 'Number of occurences')"
      ]
     },
     "execution_count": 122,
     "metadata": {},
     "output_type": "execute_result"
    },
    {
     "data": {
      "image/png": "[encoded data removed]",
      "text/plain": [
       "<Figure size 640x480 with 1 Axes>"
      ]
     },
     "metadata": {},
     "output_type": "display_data"
    }
   ],
   "source": [
    "## Disribution of number of classes\n",
    "plt.figure()\n",
    "df[\"set_based_num_classes\"].hist(bins=torch.arange(0,df[\"set_based_num_classes\"].max()+2).tolist())\n",
    "plt.title(\"Distribution of the number of classes per zone\")\n",
    "plt.xlabel(\"Number of positive classes for one zone\")\n",
    "plt.ylabel(\"Number of occurences\")"
   ]
  },
  {
   "cell_type": "code",
   "execution_count": 121,
   "metadata": {},
   "outputs": [
    {
     "data": {
      "text/plain": [
       "Text(0, 0.5, 'Number of occurences')"
      ]
     },
     "execution_count": 121,
     "metadata": {},
     "output_type": "execute_result"
    },
    {
     "data": {
      "image/png": "[encoded data removed]",
      "text/plain": [
       "<Figure size 640x480 with 1 Axes>"
      ]
     },
     "metadata": {},
     "output_type": "display_data"
    }
   ],
   "source": [
    "## Disribution of number of classes\n",
    "plt.figure()\n",
    "df[\"species_based_num_classes\"].hist(bins=torch.arange(0,df[\"species_based_num_classes\"].max()+2).tolist())\n",
    "plt.title(\"Distribution of the number of classes per zone\")\n",
    "plt.xlabel(\"Number of positive classes for one zone\")\n",
    "plt.ylabel(\"Number of occurences\")"
   ]
  },
  {
   "cell_type": "code",
   "execution_count": 42,
   "metadata": {},
   "outputs": [
    {
     "data": {
      "text/plain": [
       "2"
      ]
     },
     "execution_count": 42,
     "metadata": {},
     "output_type": "execute_result"
    }
   ],
   "source": [
    "c = json.loads(b)\n",
    "c[1]"
   ]
  },
  {
   "cell_type": "code",
   "execution_count": 75,
   "metadata": {},
   "outputs": [
    {
     "data": {
      "text/plain": [
       "[1, 0, 0, 1, 0, 0, 0, 0, 0]"
      ]
     },
     "execution_count": 75,
     "metadata": {},
     "output_type": "execute_result"
    }
   ],
   "source": [
    "torch.nn.functional.one_hot(torch.tensor([1,4])-1,num_classes=9).sum(dim=0).tolist()"
   ]
  },
  {
   "cell_type": "code",
   "execution_count": 90,
   "metadata": {},
   "outputs": [],
   "source": [
    "import numpy as np"
   ]
  },
  {
   "cell_type": "code",
   "execution_count": 91,
   "metadata": {},
   "outputs": [],
   "source": [
    "a = np.array([0,1,2,4,2])"
   ]
  },
  {
   "cell_type": "code",
   "execution_count": 93,
   "metadata": {},
   "outputs": [],
   "source": [
    "b = a.tolist()"
   ]
  },
  {
   "cell_type": "code",
   "execution_count": null,
   "metadata": {},
   "outputs": [],
   "source": []
  },
  {
   "cell_type": "code",
   "execution_count": 96,
   "metadata": {},
   "outputs": [
    {
     "data": {
      "text/plain": [
       "False"
      ]
     },
     "execution_count": 96,
     "metadata": {},
     "output_type": "execute_result"
    }
   ],
   "source": [
    "isinstance(a,list)"
   ]
  },
  {
   "cell_type": "code",
   "execution_count": null,
   "metadata": {},
   "outputs": [],
   "source": []
  }
 ],
 "metadata": {
  "kernelspec": {
   "display_name": "pdm",
   "language": "python",
   "name": "python3"
  },
  "language_info": {
   "codemirror_mode": {
    "name": "ipython",
    "version": 3
   },
   "file_extension": ".py",
   "mimetype": "text/x-python",
   "name": "python",
   "nbconvert_exporter": "python",
   "pygments_lexer": "ipython3",
   "version": "3.9.16"
  },
  "orig_nbformat": 4
 },
 "nbformat": 4,
 "nbformat_minor": 2
}
