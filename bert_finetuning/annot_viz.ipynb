{
 "cells": [
  {
   "cell_type": "code",
   "execution_count": 30,
   "metadata": {},
   "outputs": [],
   "source": [
    "import pandas as pd\n",
    "import os"
   ]
  },
  {
   "cell_type": "code",
   "execution_count": 31,
   "metadata": {},
   "outputs": [],
   "source": [
    "df = pd.read_json(\"annotated_data.json\", orient=\"records\")"
   ]
  },
  {
   "cell_type": "code",
   "execution_count": 32,
   "metadata": {},
   "outputs": [
    {
     "data": {
      "text/html": [
       "<div>\n",
       "<style scoped>\n",
       "    .dataframe tbody tr th:only-of-type {\n",
       "        vertical-align: middle;\n",
       "    }\n",
       "\n",
       "    .dataframe tbody tr th {\n",
       "        vertical-align: top;\n",
       "    }\n",
       "\n",
       "    .dataframe thead th {\n",
       "        text-align: right;\n",
       "    }\n",
       "</style>\n",
       "<table border=\"1\" class=\"dataframe\">\n",
       "  <thead>\n",
       "    <tr style=\"text-align: right;\">\n",
       "      <th></th>\n",
       "      <th>species_file</th>\n",
       "      <th>binomial_name</th>\n",
       "      <th>paragraph_index</th>\n",
       "      <th>paragraph_class</th>\n",
       "      <th>paragraph_file</th>\n",
       "    </tr>\n",
       "  </thead>\n",
       "  <tbody>\n",
       "    <tr>\n",
       "      <th>0</th>\n",
       "      <td>5384359.json</td>\n",
       "      <td>Amaranthus powellii</td>\n",
       "      <td>0</td>\n",
       "      <td>n</td>\n",
       "      <td>5384359_000.txt</td>\n",
       "    </tr>\n",
       "    <tr>\n",
       "      <th>1</th>\n",
       "      <td>5384359.json</td>\n",
       "      <td>Amaranthus powellii</td>\n",
       "      <td>1</td>\n",
       "      <td>y</td>\n",
       "      <td>5384359_001.txt</td>\n",
       "    </tr>\n",
       "    <tr>\n",
       "      <th>2</th>\n",
       "      <td>5384359.json</td>\n",
       "      <td>Amaranthus powellii</td>\n",
       "      <td>2</td>\n",
       "      <td>n</td>\n",
       "      <td>5384359_002.txt</td>\n",
       "    </tr>\n",
       "    <tr>\n",
       "      <th>3</th>\n",
       "      <td>5384359.json</td>\n",
       "      <td>Amaranthus powellii</td>\n",
       "      <td>3</td>\n",
       "      <td>n</td>\n",
       "      <td>5384359_003.txt</td>\n",
       "    </tr>\n",
       "    <tr>\n",
       "      <th>4</th>\n",
       "      <td>5954949.json</td>\n",
       "      <td>Boletus pinophilus</td>\n",
       "      <td>0</td>\n",
       "      <td>n</td>\n",
       "      <td>5954949_000.txt</td>\n",
       "    </tr>\n",
       "    <tr>\n",
       "      <th>5</th>\n",
       "      <td>5954949.json</td>\n",
       "      <td>Boletus pinophilus</td>\n",
       "      <td>1</td>\n",
       "      <td>y</td>\n",
       "      <td>5954949_001.txt</td>\n",
       "    </tr>\n",
       "    <tr>\n",
       "      <th>6</th>\n",
       "      <td>5954949.json</td>\n",
       "      <td>Boletus pinophilus</td>\n",
       "      <td>2</td>\n",
       "      <td>n</td>\n",
       "      <td>5954949_002.txt</td>\n",
       "    </tr>\n",
       "    <tr>\n",
       "      <th>7</th>\n",
       "      <td>5954949.json</td>\n",
       "      <td>Boletus pinophilus</td>\n",
       "      <td>3</td>\n",
       "      <td>n</td>\n",
       "      <td>5954949_003.txt</td>\n",
       "    </tr>\n",
       "    <tr>\n",
       "      <th>8</th>\n",
       "      <td>5954949.json</td>\n",
       "      <td>Boletus pinophilus</td>\n",
       "      <td>4</td>\n",
       "      <td>n</td>\n",
       "      <td>5954949_004.txt</td>\n",
       "    </tr>\n",
       "    <tr>\n",
       "      <th>9</th>\n",
       "      <td>5954949.json</td>\n",
       "      <td>Boletus pinophilus</td>\n",
       "      <td>5</td>\n",
       "      <td>n</td>\n",
       "      <td>5954949_005.txt</td>\n",
       "    </tr>\n",
       "  </tbody>\n",
       "</table>\n",
       "</div>"
      ],
      "text/plain": [
       "   species_file        binomial_name  paragraph_index paragraph_class  \\\n",
       "0  5384359.json  Amaranthus powellii                0               n   \n",
       "1  5384359.json  Amaranthus powellii                1               y   \n",
       "2  5384359.json  Amaranthus powellii                2               n   \n",
       "3  5384359.json  Amaranthus powellii                3               n   \n",
       "4  5954949.json   Boletus pinophilus                0               n   \n",
       "5  5954949.json   Boletus pinophilus                1               y   \n",
       "6  5954949.json   Boletus pinophilus                2               n   \n",
       "7  5954949.json   Boletus pinophilus                3               n   \n",
       "8  5954949.json   Boletus pinophilus                4               n   \n",
       "9  5954949.json   Boletus pinophilus                5               n   \n",
       "\n",
       "    paragraph_file  \n",
       "0  5384359_000.txt  \n",
       "1  5384359_001.txt  \n",
       "2  5384359_002.txt  \n",
       "3  5384359_003.txt  \n",
       "4  5954949_000.txt  \n",
       "5  5954949_001.txt  \n",
       "6  5954949_002.txt  \n",
       "7  5954949_003.txt  \n",
       "8  5954949_004.txt  \n",
       "9  5954949_005.txt  "
      ]
     },
     "execution_count": 32,
     "metadata": {},
     "output_type": "execute_result"
    }
   ],
   "source": [
    "df.head(10)"
   ]
  },
  {
   "cell_type": "code",
   "execution_count": 33,
   "metadata": {},
   "outputs": [
    {
     "data": {
      "text/plain": [
       "n    739\n",
       "y    110\n",
       "Name: paragraph_class, dtype: int64"
      ]
     },
     "execution_count": 33,
     "metadata": {},
     "output_type": "execute_result"
    }
   ],
   "source": [
    "df.paragraph_class.value_counts()"
   ]
  },
  {
   "cell_type": "code",
   "execution_count": 34,
   "metadata": {},
   "outputs": [],
   "source": [
    "## split\n",
    "positives = df.loc[df[\"paragraph_class\"]==\"y\"]\n",
    "positives_val = positives.sample(10, random_state=42)\n",
    "positives_val[\"split\"] = \"val\"\n",
    "positives_train = positives.drop(positives_val.index)\n",
    "positives_train[\"split\"] = \"train\"\n",
    "\n",
    "negatives = df.loc[df[\"paragraph_class\"]==\"n\"]\n",
    "negatives_val = negatives.sample(10, random_state=42)\n",
    "negatives_val[\"split\"] = \"val\"\n",
    "negatives_train = negatives.drop(negatives_val.index)\n",
    "negatives_train[\"split\"] = \"train\"\n",
    "\n",
    "df = pd.concat([positives_train,positives_val,negatives_train,negatives_val])"
   ]
  },
  {
   "cell_type": "code",
   "execution_count": null,
   "metadata": {},
   "outputs": [],
   "source": []
  },
  {
   "cell_type": "code",
   "execution_count": 35,
   "metadata": {},
   "outputs": [],
   "source": [
    "species_path = \"/data/nicola/WSH/final_data/species/\"\n",
    "species_list = os.listdir(species_path)\n",
    "## Species used in train, test and/or val sets\n",
    "used_species = pd.read_json(\"/data/nicola/WSH/final_data/L2_species_keys.json\", orient=\"records\")[\"species_key\"].tolist()\n",
    "used_species = [str(spe)+\".json\" for spe in used_species]\n",
    "## Species to be used for annotation\n",
    "unused_species = [spe for spe in species_list if spe not in used_species]\n",
    "annotated_data = pd.read_json(\"./annotated_data.json\", orient=\"records\")\n",
    "#annotated_data = pd.DataFrame(columns=[\"species_file\",\"binomial_name\",\"paragraph_index\",\"paragraph_class\",\"paragraphe_file\"])\n",
    "## Remove previously annotated files\n",
    "#unused_species = [spe for spe in unused_species if spe not in annotated_data[\"species_file\"].unique().tolist()]"
   ]
  },
  {
   "cell_type": "code",
   "execution_count": 36,
   "metadata": {},
   "outputs": [
    {
     "data": {
      "text/plain": [
       "6366886"
      ]
     },
     "execution_count": 36,
     "metadata": {},
     "output_type": "execute_result"
    }
   ],
   "source": [
    "unused_species_ids = [int(spe[:-5])for spe in unused_species]\n",
    "unused_species_ids[10]"
   ]
  },
  {
   "cell_type": "code",
   "execution_count": 37,
   "metadata": {},
   "outputs": [
    {
     "name": "stderr",
     "output_type": "stream",
     "text": [
      "/tmp/ipykernel_1634385/3341368087.py:1: DtypeWarning: Columns (10,14,16,17,36,37,38,39,40,41,43,44,45,46,48) have mixed types. Specify dtype option on import or set low_memory=False.\n",
      "  gbif_raw = pd.read_csv(\"/data/nicola/WSH/raw_data/gbif_raw.csv\", sep=\"\\t\")\n"
     ]
    }
   ],
   "source": [
    "gbif_raw = pd.read_csv(\"/data/nicola/WSH/raw_data/gbif_raw.csv\", sep=\"\\t\")"
   ]
  },
  {
   "cell_type": "code",
   "execution_count": 38,
   "metadata": {},
   "outputs": [
    {
     "data": {
      "text/plain": [
       "Index(['gbifID', 'datasetKey', 'occurrenceID', 'kingdom', 'phylum', 'class',\n",
       "       'order', 'family', 'genus', 'species', 'infraspecificEpithet',\n",
       "       'taxonRank', 'scientificName', 'verbatimScientificName',\n",
       "       'verbatimScientificNameAuthorship', 'countryCode', 'locality',\n",
       "       'stateProvince', 'occurrenceStatus', 'individualCount',\n",
       "       'publishingOrgKey', 'decimalLatitude', 'decimalLongitude',\n",
       "       'coordinateUncertaintyInMeters', 'coordinatePrecision', 'elevation',\n",
       "       'elevationAccuracy', 'depth', 'depthAccuracy', 'eventDate', 'day',\n",
       "       'month', 'year', 'taxonKey', 'speciesKey', 'basisOfRecord',\n",
       "       'institutionCode', 'collectionCode', 'catalogNumber', 'recordNumber',\n",
       "       'identifiedBy', 'dateIdentified', 'license', 'rightsHolder',\n",
       "       'recordedBy', 'typeStatus', 'establishmentMeans', 'lastInterpreted',\n",
       "       'mediaType', 'issue'],\n",
       "      dtype='object')"
      ]
     },
     "execution_count": 38,
     "metadata": {},
     "output_type": "execute_result"
    }
   ],
   "source": [
    "gbif_raw.columns"
   ]
  },
  {
   "cell_type": "code",
   "execution_count": 39,
   "metadata": {},
   "outputs": [],
   "source": [
    "gbif_subset = gbif_raw.loc[gbif_raw[\"speciesKey\"].isin(unused_species_ids)]\n",
    "gbif_subset = gbif_subset[[\"speciesKey\",\"kingdom\",\"phylum\"]].drop_duplicates()\n",
    "gbif_subset[\"speciesKey\"] = gbif_subset[\"speciesKey\"].apply(lambda x : int(x))"
   ]
  },
  {
   "cell_type": "code",
   "execution_count": 40,
   "metadata": {},
   "outputs": [
    {
     "data": {
      "text/html": [
       "<div>\n",
       "<style scoped>\n",
       "    .dataframe tbody tr th:only-of-type {\n",
       "        vertical-align: middle;\n",
       "    }\n",
       "\n",
       "    .dataframe tbody tr th {\n",
       "        vertical-align: top;\n",
       "    }\n",
       "\n",
       "    .dataframe thead th {\n",
       "        text-align: right;\n",
       "    }\n",
       "</style>\n",
       "<table border=\"1\" class=\"dataframe\">\n",
       "  <thead>\n",
       "    <tr style=\"text-align: right;\">\n",
       "      <th></th>\n",
       "      <th>speciesKey</th>\n",
       "      <th>kingdom</th>\n",
       "      <th>phylum</th>\n",
       "    </tr>\n",
       "  </thead>\n",
       "  <tbody>\n",
       "    <tr>\n",
       "      <th>194</th>\n",
       "      <td>2359706</td>\n",
       "      <td>Animalia</td>\n",
       "      <td>Chordata</td>\n",
       "    </tr>\n",
       "    <tr>\n",
       "      <th>550</th>\n",
       "      <td>2498112</td>\n",
       "      <td>Animalia</td>\n",
       "      <td>Chordata</td>\n",
       "    </tr>\n",
       "    <tr>\n",
       "      <th>564</th>\n",
       "      <td>2480259</td>\n",
       "      <td>Animalia</td>\n",
       "      <td>Chordata</td>\n",
       "    </tr>\n",
       "    <tr>\n",
       "      <th>1030</th>\n",
       "      <td>2432614</td>\n",
       "      <td>Animalia</td>\n",
       "      <td>Chordata</td>\n",
       "    </tr>\n",
       "    <tr>\n",
       "      <th>1109</th>\n",
       "      <td>2432427</td>\n",
       "      <td>Animalia</td>\n",
       "      <td>Chordata</td>\n",
       "    </tr>\n",
       "    <tr>\n",
       "      <th>...</th>\n",
       "      <td>...</td>\n",
       "      <td>...</td>\n",
       "      <td>...</td>\n",
       "    </tr>\n",
       "    <tr>\n",
       "      <th>4470440</th>\n",
       "      <td>4287131</td>\n",
       "      <td>Animalia</td>\n",
       "      <td>Chordata</td>\n",
       "    </tr>\n",
       "    <tr>\n",
       "      <th>4470453</th>\n",
       "      <td>5204862</td>\n",
       "      <td>Animalia</td>\n",
       "      <td>Chordata</td>\n",
       "    </tr>\n",
       "    <tr>\n",
       "      <th>4610568</th>\n",
       "      <td>2351630</td>\n",
       "      <td>Animalia</td>\n",
       "      <td>Chordata</td>\n",
       "    </tr>\n",
       "    <tr>\n",
       "      <th>4741062</th>\n",
       "      <td>2432509</td>\n",
       "      <td>Animalia</td>\n",
       "      <td>Chordata</td>\n",
       "    </tr>\n",
       "    <tr>\n",
       "      <th>4741168</th>\n",
       "      <td>10991082</td>\n",
       "      <td>Animalia</td>\n",
       "      <td>Chordata</td>\n",
       "    </tr>\n",
       "  </tbody>\n",
       "</table>\n",
       "<p>186 rows × 3 columns</p>\n",
       "</div>"
      ],
      "text/plain": [
       "         speciesKey   kingdom    phylum\n",
       "194         2359706  Animalia  Chordata\n",
       "550         2498112  Animalia  Chordata\n",
       "564         2480259  Animalia  Chordata\n",
       "1030        2432614  Animalia  Chordata\n",
       "1109        2432427  Animalia  Chordata\n",
       "...             ...       ...       ...\n",
       "4470440     4287131  Animalia  Chordata\n",
       "4470453     5204862  Animalia  Chordata\n",
       "4610568     2351630  Animalia  Chordata\n",
       "4741062     2432509  Animalia  Chordata\n",
       "4741168    10991082  Animalia  Chordata\n",
       "\n",
       "[186 rows x 3 columns]"
      ]
     },
     "execution_count": 40,
     "metadata": {},
     "output_type": "execute_result"
    }
   ],
   "source": [
    "gbif_subset.loc[gbif_subset[\"phylum\"]==\"Chordata\"]"
   ]
  },
  {
   "cell_type": "code",
   "execution_count": 41,
   "metadata": {},
   "outputs": [
    {
     "data": {
      "text/html": [
       "<div>\n",
       "<style scoped>\n",
       "    .dataframe tbody tr th:only-of-type {\n",
       "        vertical-align: middle;\n",
       "    }\n",
       "\n",
       "    .dataframe tbody tr th {\n",
       "        vertical-align: top;\n",
       "    }\n",
       "\n",
       "    .dataframe thead th {\n",
       "        text-align: right;\n",
       "    }\n",
       "</style>\n",
       "<table border=\"1\" class=\"dataframe\">\n",
       "  <thead>\n",
       "    <tr style=\"text-align: right;\">\n",
       "      <th></th>\n",
       "      <th>kingdom</th>\n",
       "      <th>phylum</th>\n",
       "    </tr>\n",
       "    <tr>\n",
       "      <th>speciesKey</th>\n",
       "      <th></th>\n",
       "      <th></th>\n",
       "    </tr>\n",
       "  </thead>\n",
       "  <tbody>\n",
       "    <tr>\n",
       "      <th>1633937</th>\n",
       "      <td>Animalia</td>\n",
       "      <td>Arthropoda</td>\n",
       "    </tr>\n",
       "    <tr>\n",
       "      <th>5107829</th>\n",
       "      <td>Animalia</td>\n",
       "      <td>Arthropoda</td>\n",
       "    </tr>\n",
       "    <tr>\n",
       "      <th>3227657</th>\n",
       "      <td>Bacteria</td>\n",
       "      <td>Firmicutes</td>\n",
       "    </tr>\n",
       "    <tr>\n",
       "      <th>5073713</th>\n",
       "      <td>Animalia</td>\n",
       "      <td>Arthropoda</td>\n",
       "    </tr>\n",
       "    <tr>\n",
       "      <th>7907958</th>\n",
       "      <td>Animalia</td>\n",
       "      <td>Arthropoda</td>\n",
       "    </tr>\n",
       "    <tr>\n",
       "      <th>...</th>\n",
       "      <td>...</td>\n",
       "      <td>...</td>\n",
       "    </tr>\n",
       "    <tr>\n",
       "      <th>2014676</th>\n",
       "      <td>Animalia</td>\n",
       "      <td>Arthropoda</td>\n",
       "    </tr>\n",
       "    <tr>\n",
       "      <th>5153706</th>\n",
       "      <td>Animalia</td>\n",
       "      <td>Arthropoda</td>\n",
       "    </tr>\n",
       "    <tr>\n",
       "      <th>1831643</th>\n",
       "      <td>Animalia</td>\n",
       "      <td>Arthropoda</td>\n",
       "    </tr>\n",
       "    <tr>\n",
       "      <th>2432509</th>\n",
       "      <td>Animalia</td>\n",
       "      <td>Chordata</td>\n",
       "    </tr>\n",
       "    <tr>\n",
       "      <th>10991082</th>\n",
       "      <td>Animalia</td>\n",
       "      <td>Chordata</td>\n",
       "    </tr>\n",
       "  </tbody>\n",
       "</table>\n",
       "<p>3020 rows × 2 columns</p>\n",
       "</div>"
      ],
      "text/plain": [
       "             kingdom      phylum\n",
       "speciesKey                      \n",
       "1633937     Animalia  Arthropoda\n",
       "5107829     Animalia  Arthropoda\n",
       "3227657     Bacteria  Firmicutes\n",
       "5073713     Animalia  Arthropoda\n",
       "7907958     Animalia  Arthropoda\n",
       "...              ...         ...\n",
       "2014676     Animalia  Arthropoda\n",
       "5153706     Animalia  Arthropoda\n",
       "1831643     Animalia  Arthropoda\n",
       "2432509     Animalia    Chordata\n",
       "10991082    Animalia    Chordata\n",
       "\n",
       "[3020 rows x 2 columns]"
      ]
     },
     "execution_count": 41,
     "metadata": {},
     "output_type": "execute_result"
    }
   ],
   "source": [
    "gbif_subset.set_index(\"speciesKey\")"
   ]
  },
  {
   "cell_type": "code",
   "execution_count": 42,
   "metadata": {},
   "outputs": [],
   "source": [
    "annotated_data = pd.read_json(\"./annotated_data.json\", orient=\"records\")\n",
    "annotated_data[\"species_key\"] = annotated_data[\"species_file\"].apply(lambda x : int(x[:-5]))\n",
    "annotated_data = annotated_data.join(gbif_subset.set_index(\"speciesKey\"), on=\"species_key\")"
   ]
  },
  {
   "cell_type": "code",
   "execution_count": 43,
   "metadata": {},
   "outputs": [
    {
     "data": {
      "text/plain": [
       "Animalia    47\n",
       "Plantae     44\n",
       "Fungi       39\n",
       "Bacteria     3\n",
       "Name: kingdom, dtype: int64"
      ]
     },
     "execution_count": 43,
     "metadata": {},
     "output_type": "execute_result"
    }
   ],
   "source": [
    "annotated_data[[\"species_key\",\"kingdom\",\"phylum\"]].drop_duplicates()[\"kingdom\"].value_counts()"
   ]
  },
  {
   "cell_type": "code",
   "execution_count": 44,
   "metadata": {},
   "outputs": [
    {
     "data": {
      "text/plain": [
       "Tracheophyta        38\n",
       "Arthropoda          33\n",
       "Basidiomycota       22\n",
       "Ascomycota          17\n",
       "Chordata            11\n",
       "Bryophyta            5\n",
       "Mollusca             3\n",
       "Proteobacteria       1\n",
       "Firmicutes_A         1\n",
       "Actinobacteriota     1\n",
       "Chlorophyta          1\n",
       "Name: phylum, dtype: int64"
      ]
     },
     "execution_count": 44,
     "metadata": {},
     "output_type": "execute_result"
    }
   ],
   "source": [
    "annotated_data[[\"species_key\",\"kingdom\",\"phylum\"]].drop_duplicates()[\"phylum\"].value_counts()"
   ]
  },
  {
   "cell_type": "code",
   "execution_count": 45,
   "metadata": {},
   "outputs": [
    {
     "data": {
      "text/plain": [
       "3020"
      ]
     },
     "execution_count": 45,
     "metadata": {},
     "output_type": "execute_result"
    }
   ],
   "source": [
    "len(unused_species_ids)"
   ]
  },
  {
   "cell_type": "code",
   "execution_count": 46,
   "metadata": {},
   "outputs": [
    {
     "data": {
      "text/html": [
       "<div>\n",
       "<style scoped>\n",
       "    .dataframe tbody tr th:only-of-type {\n",
       "        vertical-align: middle;\n",
       "    }\n",
       "\n",
       "    .dataframe tbody tr th {\n",
       "        vertical-align: top;\n",
       "    }\n",
       "\n",
       "    .dataframe thead th {\n",
       "        text-align: right;\n",
       "    }\n",
       "</style>\n",
       "<table border=\"1\" class=\"dataframe\">\n",
       "  <thead>\n",
       "    <tr style=\"text-align: right;\">\n",
       "      <th></th>\n",
       "      <th>species_file</th>\n",
       "      <th>binomial_name</th>\n",
       "      <th>paragraph_index</th>\n",
       "      <th>paragraph_class</th>\n",
       "      <th>paragraph_file</th>\n",
       "      <th>species_key</th>\n",
       "      <th>kingdom</th>\n",
       "      <th>phylum</th>\n",
       "    </tr>\n",
       "  </thead>\n",
       "  <tbody>\n",
       "  </tbody>\n",
       "</table>\n",
       "</div>"
      ],
      "text/plain": [
       "Empty DataFrame\n",
       "Columns: [species_file, binomial_name, paragraph_index, paragraph_class, paragraph_file, species_key, kingdom, phylum]\n",
       "Index: []"
      ]
     },
     "execution_count": 46,
     "metadata": {},
     "output_type": "execute_result"
    }
   ],
   "source": [
    "annotated_data[annotated_data[\"species_key\"]==4470453]"
   ]
  },
  {
   "cell_type": "code",
   "execution_count": null,
   "metadata": {},
   "outputs": [],
   "source": []
  }
 ],
 "metadata": {
  "kernelspec": {
   "display_name": "pdm",
   "language": "python",
   "name": "python3"
  },
  "language_info": {
   "codemirror_mode": {
    "name": "ipython",
    "version": 3
   },
   "file_extension": ".py",
   "mimetype": "text/x-python",
   "name": "python",
   "nbconvert_exporter": "python",
   "pygments_lexer": "ipython3",
   "version": "3.9.16"
  },
  "orig_nbformat": 4
 },
 "nbformat": 4,
 "nbformat_minor": 2
}
